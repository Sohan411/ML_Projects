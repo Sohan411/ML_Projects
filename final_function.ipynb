{
  "cells": [
    {
      "cell_type": "markdown",
      "metadata": {
        "id": "view-in-github",
        "colab_type": "text"
      },
      "source": [
        "<a href=\"https://colab.research.google.com/github/Sohan411/ML_Projects/blob/main/final_function.ipynb\" target=\"_parent\"><img src=\"https://colab.research.google.com/assets/colab-badge.svg\" alt=\"Open In Colab\"/></a>"
      ]
    },
    {
      "cell_type": "code",
      "execution_count": null,
      "metadata": {
        "id": "mLLAx-BQs_gw"
      },
      "outputs": [],
      "source": [
        "##Upload and Reading Dataset\n",
        "import pandas as pd"
      ]
    },
    {
      "cell_type": "code",
      "execution_count": null,
      "metadata": {
        "id": "UVKOdOvls_g2"
      },
      "outputs": [],
      "source": [
        "movies = pd.read_csv('https://techlearn-cdn.s3.amazonaws.com/bs_netflix_recommendation/movies.csv')\n",
        "movies.head(2)"
      ]
    },
    {
      "cell_type": "code",
      "execution_count": null,
      "metadata": {
        "id": "8u9lktmOs_g3"
      },
      "outputs": [],
      "source": [
        "movies.info()"
      ]
    },
    {
      "cell_type": "code",
      "execution_count": null,
      "metadata": {
        "id": "KBD189kQs_g4"
      },
      "outputs": [],
      "source": [
        ""
      ]
    },
    {
      "cell_type": "code",
      "execution_count": null,
      "metadata": {
        "id": "Ytkx3AG6s_g4"
      },
      "outputs": [],
      "source": [
        "###Dropping not required columns\n",
        "required_columns =['title','original_title', 'tagline', 'keywords', 'overview', 'genres', 'cast', 'director']\n",
        "movies = movies[required_columns]\n",
        "movies.isna().sum()"
      ]
    },
    {
      "cell_type": "code",
      "execution_count": null,
      "metadata": {
        "id": "Vx9fcB1Js_g5"
      },
      "outputs": [],
      "source": [
        "\n",
        "movies.fillna(' ', inplace=True)\n",
        "movies.isna().sum()"
      ]
    },
    {
      "cell_type": "code",
      "execution_count": null,
      "metadata": {
        "id": "atw5pN_Bs_g6"
      },
      "outputs": [],
      "source": [
        "\n",
        "movies.iloc[0]"
      ]
    },
    {
      "cell_type": "code",
      "execution_count": null,
      "metadata": {
        "id": "v0kcqRa9s_g7"
      },
      "outputs": [],
      "source": [
        ""
      ]
    },
    {
      "cell_type": "code",
      "execution_count": null,
      "metadata": {
        "id": "6uKKITfRs_g8"
      },
      "outputs": [],
      "source": [
        "###Create movie CONTENT\n",
        "movies['genres'] = movies['genres'].apply(lambda x:[i.replace(\" \",\"\") for i in x])\n",
        "movies['keywords'] = movies['keywords'].apply(lambda x:[i.replace(\" \",\"\") for i in x])\n",
        "movies['cast'] = movies['cast'].apply(lambda x:[i.replace(\" \",\"\") for i in x])\n",
        "movies['director'] = movies['director'].apply(lambda x: x.replace(\" \",\"\") )"
      ]
    },
    {
      "cell_type": "code",
      "execution_count": null,
      "metadata": {
        "id": "ALL7U8Uzs_g9"
      },
      "outputs": [],
      "source": [
        "\n",
        "##Converting List to Strings\n",
        "movies['genres'] = movies['genres'].apply(lambda x: ','.join(map(str, x)))\n",
        "movies['keywords'] = movies['keywords'].apply(lambda x: ','.join(map(str, x)))\n",
        "movies['cast'] = movies['cast'].apply(lambda x: ','.join(map(str, x)))"
      ]
    },
    {
      "cell_type": "code",
      "execution_count": null,
      "metadata": {
        "id": "TNHqVLUNs_g9"
      },
      "outputs": [],
      "source": [
        "\n",
        "movies['content'] = movies['title'] + ' ' + movies['overview'] + ' ' + movies['keywords'] + ' ' + movies['cast'] + ' ' + movies ['director']\n",
        "movies['content']"
      ]
    },
    {
      "cell_type": "code",
      "execution_count": null,
      "metadata": {
        "id": "rE8FJzmhs_g-"
      },
      "outputs": [],
      "source": [
        ""
      ]
    },
    {
      "cell_type": "code",
      "execution_count": null,
      "metadata": {
        "id": "-Ui15MMEs_g-"
      },
      "outputs": [],
      "source": [
        "###Natural Language Processing\n",
        "from sklearn.feature_extraction.text import TfidfVectorizer"
      ]
    },
    {
      "cell_type": "code",
      "execution_count": null,
      "metadata": {
        "id": "GIZEIAcis_g_"
      },
      "outputs": [],
      "source": [
        "vectorizer = TfidfVectorizer(max_features=1000)\n",
        "movie_vectors = vectorizer.fit_transform(movies['content'].values) "
      ]
    },
    {
      "cell_type": "code",
      "execution_count": null,
      "metadata": {
        "id": "g7CDXWuqs_g_"
      },
      "outputs": [],
      "source": [
        ""
      ]
    },
    {
      "cell_type": "code",
      "execution_count": null,
      "metadata": {
        "id": "V_oPb4BFs_hA"
      },
      "outputs": [],
      "source": [
        "###Cosine Similarity\n",
        "from sklearn.metrics.pairwise import cosine_similarity"
      ]
    },
    {
      "cell_type": "code",
      "execution_count": null,
      "metadata": {
        "id": "PfwPSBMrs_hA"
      },
      "outputs": [],
      "source": [
        "similarity = cosine_similarity(movie_vectors)"
      ]
    },
    {
      "cell_type": "code",
      "execution_count": null,
      "metadata": {
        "id": "GWldx74ds_hA"
      },
      "outputs": [],
      "source": [
        "\n",
        "similarity_df = pd.DataFrame(similarity)\n",
        "similarity_df"
      ]
    },
    {
      "cell_type": "code",
      "execution_count": null,
      "metadata": {
        "id": "6Z5YHhBes_hB"
      },
      "outputs": [],
      "source": [
        ""
      ]
    },
    {
      "cell_type": "code",
      "execution_count": null,
      "metadata": {
        "id": "Ua3lySYfs_hB"
      },
      "outputs": [],
      "source": [
        "###Recommending Movies\n",
        "def recommend(movie):\n",
        "    \n",
        "    # find movie index from dataset\n",
        "    movies_index = movies[movies['title'] == movie].index[0]\n",
        "    \n",
        "    # finding cosine similarities of movie\n",
        "    distances = similarity[movies_index]\n",
        "    \n",
        "    # sorting cosine similarities\n",
        "    movies_list = sorted(list(enumerate(distances)),reverse=True,key=lambda x:x[1])[1:6]\n",
        "    \n",
        "    for i in movies_list:\n",
        "        print(movies.iloc[i[0]].title)\n",
        "        \n",
        "        \n",
        "movies.title.head(10)"
      ]
    },
    {
      "cell_type": "code",
      "execution_count": null,
      "metadata": {
        "id": "UuKxJcvNs_hC"
      },
      "outputs": [],
      "source": [
        "\n",
        "recommend('Harry Potter and the Half-Blood Prince')"
      ]
    }
  ],
  "metadata": {
    "kernelspec": {
      "display_name": "Python 3",
      "language": "python",
      "name": "python3"
    },
    "language_info": {
      "codemirror_mode": {
        "name": "ipython",
        "version": 3
      },
      "file_extension": ".py",
      "mimetype": "text/x-python",
      "name": "python",
      "nbconvert_exporter": "python",
      "pygments_lexer": "ipython3",
      "version": "3.7.4"
    },
    "colab": {
      "name": "final_function.ipynb",
      "provenance": [],
      "include_colab_link": true
    }
  },
  "nbformat": 4,
  "nbformat_minor": 0
}